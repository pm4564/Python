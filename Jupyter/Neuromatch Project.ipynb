{
 "cells": [
  {
   "cell_type": "markdown",
   "metadata": {},
   "source": [
    "# The effect of locomotion on stimulus representations in v1\n",
    "### Introduction \n",
    "\n",
    "* Start with broad question, show other stuff (corr matrix, pca, stimulus tuning, SNR comparison between stat and run)\n",
    "\n",
    "### Decoding Section\n",
    "\n",
    "*   Performance of Linear decoder, Running compared to Stationary  (Do the predict, plot line. Xaxis Y Yaxis Ypred). K Fold Cross val on Ridge Regression?\n",
    "*   Performance of Random Forests, Running compared to Stationary (Do the prediction... y vs ypred). Error rate vs n trees\n",
    "*  Performance of decoders on Tuned/ Non-Tuned neurons. TODO\n",
    "*  Decoding Running speed   TODO\n",
    "\n",
    "### Other stuff we tried\n",
    "\n",
    "* PCA, Network stuff, Something from Miro Board?\n",
    "\n",
    "###Conclusion"
   ]
  },
  {
   "cell_type": "code",
   "execution_count": 1,
   "metadata": {},
   "outputs": [],
   "source": [
    "\n",
    "import os, requests\n",
    "\n",
    "fname = \"stringer_orientations.npy\"\n",
    "url = \"https://osf.io/ny4ut/download\"\n",
    "\n",
    "if not os.path.isfile(fname):\n",
    "  try:\n",
    "    r = requests.get(url)\n",
    "  except requests.ConnectionError:\n",
    "    print(\"!!! Failed to download data !!!\")\n",
    "  else:\n",
    "    if r.status_code != requests.codes.ok:\n",
    "      print(\"!!! Failed to download data !!!\")\n",
    "    else:\n",
    "      with open(fname, \"wb\") as fid:\n",
    "        fid.write(r.content)"
   ]
  },
  {
   "cell_type": "code",
   "execution_count": 2,
   "metadata": {},
   "outputs": [
    {
     "name": "stderr",
     "output_type": "stream",
     "text": [
      "\n",
      "Bad key \"text.kerning_factor\" on line 4 in\n",
      "/Users/Myers/opt/miniconda3/lib/python3.7/site-packages/matplotlib/mpl-data/stylelib/_classic_test_patch.mplstyle.\n",
      "You probably need to get an updated matplotlibrc file from\n",
      "https://github.com/matplotlib/matplotlib/blob/v3.1.3/matplotlibrc.template\n",
      "or from the matplotlib source distribution\n"
     ]
    },
    {
     "name": "stdout",
     "output_type": "stream",
     "text": [
      "Requirement already satisfied: ipython-autotime in /Users/Myers/opt/miniconda3/lib/python3.7/site-packages (0.1)\n",
      "\u001b[31mERROR: Error checking for conflicts.\n",
      "Traceback (most recent call last):\n",
      "  File \"/Users/Myers/opt/miniconda3/lib/python3.7/site-packages/pip/_vendor/pkg_resources/__init__.py\", line 3021, in _dep_map\n",
      "    return self.__dep_map\n",
      "  File \"/Users/Myers/opt/miniconda3/lib/python3.7/site-packages/pip/_vendor/pkg_resources/__init__.py\", line 2815, in __getattr__\n",
      "    raise AttributeError(attr)\n",
      "AttributeError: _DistInfoDistribution__dep_map\n",
      "\n",
      "During handling of the above exception, another exception occurred:\n",
      "\n",
      "Traceback (most recent call last):\n",
      "  File \"/Users/Myers/opt/miniconda3/lib/python3.7/site-packages/pip/_vendor/pkg_resources/__init__.py\", line 3012, in _parsed_pkg_info\n",
      "    return self._pkg_info\n",
      "  File \"/Users/Myers/opt/miniconda3/lib/python3.7/site-packages/pip/_vendor/pkg_resources/__init__.py\", line 2815, in __getattr__\n",
      "    raise AttributeError(attr)\n",
      "AttributeError: _pkg_info\n",
      "\n",
      "During handling of the above exception, another exception occurred:\n",
      "\n",
      "Traceback (most recent call last):\n",
      "  File \"/Users/Myers/opt/miniconda3/lib/python3.7/site-packages/pip/_internal/commands/install.py\", line 517, in _warn_about_conflicts\n",
      "    package_set, _dep_info = check_install_conflicts(to_install)\n",
      "  File \"/Users/Myers/opt/miniconda3/lib/python3.7/site-packages/pip/_internal/operations/check.py\", line 114, in check_install_conflicts\n",
      "    package_set, _ = create_package_set_from_installed()\n",
      "  File \"/Users/Myers/opt/miniconda3/lib/python3.7/site-packages/pip/_internal/operations/check.py\", line 53, in create_package_set_from_installed\n",
      "    package_set[name] = PackageDetails(dist.version, dist.requires())\n",
      "  File \"/Users/Myers/opt/miniconda3/lib/python3.7/site-packages/pip/_vendor/pkg_resources/__init__.py\", line 2736, in requires\n",
      "    dm = self._dep_map\n",
      "  File \"/Users/Myers/opt/miniconda3/lib/python3.7/site-packages/pip/_vendor/pkg_resources/__init__.py\", line 3023, in _dep_map\n",
      "    self.__dep_map = self._compute_dependencies()\n",
      "  File \"/Users/Myers/opt/miniconda3/lib/python3.7/site-packages/pip/_vendor/pkg_resources/__init__.py\", line 3032, in _compute_dependencies\n",
      "    for req in self._parsed_pkg_info.get_all('Requires-Dist') or []:\n",
      "  File \"/Users/Myers/opt/miniconda3/lib/python3.7/site-packages/pip/_vendor/pkg_resources/__init__.py\", line 3014, in _parsed_pkg_info\n",
      "    metadata = self.get_metadata(self.PKG_INFO)\n",
      "  File \"/Users/Myers/opt/miniconda3/lib/python3.7/site-packages/pip/_vendor/pkg_resources/__init__.py\", line 1420, in get_metadata\n",
      "    value = self._get(path)\n",
      "  File \"/Users/Myers/opt/miniconda3/lib/python3.7/site-packages/pip/_vendor/pkg_resources/__init__.py\", line 1616, in _get\n",
      "    with open(path, 'rb') as stream:\n",
      "FileNotFoundError: [Errno 2] No such file or directory: '/Users/Myers/opt/miniconda3/lib/python3.7/site-packages/pandas-1.0.1.dist-info/METADATA'\u001b[0m\n"
     ]
    }
   ],
   "source": [
    "#@title Import matplotlib and set defaults\n",
    "from matplotlib import rcParams \n",
    "from matplotlib import pyplot as plt\n",
    "rcParams['figure.figsize'] = [20, 4]\n",
    "rcParams['font.size'] =15\n",
    "rcParams['axes.spines.top'] = False\n",
    "rcParams['axes.spines.right'] = False\n",
    "rcParams['figure.autolayout'] = True\n",
    "!pip install ipython-autotime\n",
    "%load_ext autotime\n",
    "\n",
    "import seaborn as sns\n",
    "\n",
    "sns.set_context('talk')"
   ]
  },
  {
   "cell_type": "code",
   "execution_count": 3,
   "metadata": {},
   "outputs": [
    {
     "name": "stdout",
     "output_type": "stream",
     "text": [
      "dict_keys(['sresp', 'istim', 'stat', 'u_spont', 'v_spont', 'mean_spont', 'std_spont', 'stimtimes', 'frametimes', 'camtimes', 'run', 'info', 'xyz'])\n",
      "time: 1.4 s\n"
     ]
    }
   ],
   "source": [
    "#@title Data loading\n",
    "import numpy as np\n",
    "dat = np.load('stringer_orientations.npy', allow_pickle=True).item()\n",
    "print(dat.keys())"
   ]
  },
  {
   "cell_type": "code",
   "execution_count": 4,
   "metadata": {},
   "outputs": [
    {
     "name": "stdout",
     "output_type": "stream",
     "text": [
      "time: 637 µs\n"
     ]
    }
   ],
   "source": [
    "#@title Define masks for different conditions, running versus stationary\n",
    "\n",
    "run_mask = dat['run'] > 50\n",
    "stat_mask = dat['run'] == 0"
   ]
  },
  {
   "cell_type": "code",
   "execution_count": 5,
   "metadata": {},
   "outputs": [
    {
     "name": "stdout",
     "output_type": "stream",
     "text": [
      "time: 650 ms\n"
     ]
    }
   ],
   "source": [
    "#@title Use masks to define trials when running/not & take mean response\n",
    "\n",
    "run_conds = dat['sresp'][:,run_mask]\n",
    "stat_conds = dat['sresp'][:,stat_mask]\n",
    "\n",
    "run_resp = np.mean(run_conds,1)"
   ]
  },
  {
   "cell_type": "code",
   "execution_count": 6,
   "metadata": {},
   "outputs": [
    {
     "name": "stdout",
     "output_type": "stream",
     "text": [
      "time: 1.11 ms\n"
     ]
    }
   ],
   "source": [
    "#@title Function to calculate the orientation selectivity index of each neuron\n",
    "\n",
    "def calculate_osi(stim, data):\n",
    "\n",
    "  \"\"\"\n",
    "  stim (1, 4598 // 1, stim): array of stimulus values \n",
    "  data (23589, 4598 // neurons, responses): array of responses by neuron\n",
    "  \"\"\"\n",
    "\n",
    "  #stim = (stim*180)/(2*np.pi)\n",
    "\n",
    "  osi = []\n",
    "\n",
    "  for neuron in data: \n",
    "\n",
    "    neuron_osi = np.sqrt(np.sum(neuron*np.cos(2*stim))**2 + (np.sum(neuron*np.sin(2*stim)))**2)/neuron.sum()\n",
    "\n",
    "    osi.append(neuron_osi)\n",
    "\n",
    "  return osi\n",
    "\n",
    "  "
   ]
  },
  {
   "cell_type": "code",
   "execution_count": 7,
   "metadata": {},
   "outputs": [
    {
     "name": "stdout",
     "output_type": "stream",
     "text": [
      "time: 9.43 s\n"
     ]
    }
   ],
   "source": [
    "#Calculate OSI for all trials\n",
    "osi = calculate_osi(dat['istim'], dat['sresp'])\n",
    "\n",
    "#OSI for all run trials\n",
    "osi_run = calculate_osi(dat['istim'][run_mask], run_conds)\n",
    "\n",
    "#OSI for all stat trials\n",
    "osi_stat = calculate_osi(dat['istim'][stat_mask], stat_conds)\n",
    "\n",
    "#Random sampling to correct for the fact there are only 337 \"fast running\" trials\n",
    "\n",
    "#Subset of stationary trials\n",
    "possible_stat_trials = dat['sresp'][:,stat_mask]\n",
    "possible_stim = dat['istim'][stat_mask]\n",
    "stat_rand_choice = np.random.choice((np.arange(0, possible_stat_trials.shape[1])), size = 337, replace = False)\n",
    "osi_rand_stat = calculate_osi(possible_stim[stat_rand_choice], possible_stat_trials[:,stat_rand_choice])\n",
    "\n",
    "#Subset of all trials\n",
    "possible_trials = dat['sresp']\n",
    "possible_stim = dat['istim']\n",
    "rand_choice = np.random.choice((np.arange(0, possible_trials.shape[1])), size = 337, replace = False)\n",
    "osi_rand = calculate_osi(possible_stim[rand_choice], possible_trials[:,rand_choice])"
   ]
  },
  {
   "cell_type": "code",
   "execution_count": 8,
   "metadata": {},
   "outputs": [
    {
     "data": {
      "text/plain": [
       "[Text(0, 0, 'Strong Tuned'), Text(0, 0, 'Weak Tuned')]"
      ]
     },
     "execution_count": 8,
     "metadata": {},
     "output_type": "execute_result"
    },
    {
     "data": {
      "image/png": "[encoded data removed]",
      "text/plain": [
       "<Figure size 360x360 with 1 Axes>"
      ]
     },
     "metadata": {
      "needs_background": "light"
     },
     "output_type": "display_data"
    },
    {
     "name": "stdout",
     "output_type": "stream",
     "text": [
      "time: 159 ms\n"
     ]
    }
   ],
   "source": [
    "\n",
    "v_tuned = np.argwhere(np.array(osi_stat)>0.6)\n",
    "\n",
    "v_tuned_diff = np.array(osi_run)[v_tuned] - np.array(osi_stat)[v_tuned]\n",
    "\n",
    "not_tuned = np.argwhere(np.array(osi_stat)<0.1)\n",
    "\n",
    "not_tuned_diff = np.array(osi_run)[not_tuned] - np.array(osi_stat)[not_tuned]\n",
    "\n",
    "data = [v_tuned_diff, not_tuned_diff]\n",
    "\n",
    "\n",
    "f, axes = plt.subplots(1, 1, figsize=(5, 5))\n",
    "\n",
    "sns.violinplot(data = data, orient = 'v')\n",
    "plt.ylabel('Delta_OSI')\n",
    "axes.set_xticklabels(['Strong Tuned','Weak Tuned'])"
   ]
  },
  {
   "cell_type": "code",
   "execution_count": 9,
   "metadata": {},
   "outputs": [
    {
     "name": "stdout",
     "output_type": "stream",
     "text": [
      "Requirement already up-to-date: scikit-learn in /Users/Myers/opt/miniconda3/lib/python3.7/site-packages (0.23.1)\n",
      "Requirement already satisfied, skipping upgrade: numpy>=1.13.3 in /Users/Myers/opt/miniconda3/lib/python3.7/site-packages (from scikit-learn) (1.18.1)\n",
      "Requirement already satisfied, skipping upgrade: threadpoolctl>=2.0.0 in /Users/Myers/opt/miniconda3/lib/python3.7/site-packages (from scikit-learn) (2.1.0)\n",
      "Requirement already satisfied, skipping upgrade: scipy>=0.19.1 in /Users/Myers/opt/miniconda3/lib/python3.7/site-packages (from scikit-learn) (1.4.1)\n",
      "Requirement already satisfied, skipping upgrade: joblib>=0.11 in /Users/Myers/opt/miniconda3/lib/python3.7/site-packages (from scikit-learn) (0.16.0)\n",
      "\u001b[31mERROR: Error checking for conflicts.\n",
      "Traceback (most recent call last):\n",
      "  File \"/Users/Myers/opt/miniconda3/lib/python3.7/site-packages/pip/_vendor/pkg_resources/__init__.py\", line 3021, in _dep_map\n",
      "    return self.__dep_map\n",
      "  File \"/Users/Myers/opt/miniconda3/lib/python3.7/site-packages/pip/_vendor/pkg_resources/__init__.py\", line 2815, in __getattr__\n",
      "    raise AttributeError(attr)\n",
      "AttributeError: _DistInfoDistribution__dep_map\n",
      "\n",
      "During handling of the above exception, another exception occurred:\n",
      "\n",
      "Traceback (most recent call last):\n",
      "  File \"/Users/Myers/opt/miniconda3/lib/python3.7/site-packages/pip/_vendor/pkg_resources/__init__.py\", line 3012, in _parsed_pkg_info\n",
      "    return self._pkg_info\n",
      "  File \"/Users/Myers/opt/miniconda3/lib/python3.7/site-packages/pip/_vendor/pkg_resources/__init__.py\", line 2815, in __getattr__\n",
      "    raise AttributeError(attr)\n",
      "AttributeError: _pkg_info\n",
      "\n",
      "During handling of the above exception, another exception occurred:\n",
      "\n",
      "Traceback (most recent call last):\n",
      "  File \"/Users/Myers/opt/miniconda3/lib/python3.7/site-packages/pip/_internal/commands/install.py\", line 517, in _warn_about_conflicts\n",
      "    package_set, _dep_info = check_install_conflicts(to_install)\n",
      "  File \"/Users/Myers/opt/miniconda3/lib/python3.7/site-packages/pip/_internal/operations/check.py\", line 114, in check_install_conflicts\n",
      "    package_set, _ = create_package_set_from_installed()\n",
      "  File \"/Users/Myers/opt/miniconda3/lib/python3.7/site-packages/pip/_internal/operations/check.py\", line 53, in create_package_set_from_installed\n",
      "    package_set[name] = PackageDetails(dist.version, dist.requires())\n",
      "  File \"/Users/Myers/opt/miniconda3/lib/python3.7/site-packages/pip/_vendor/pkg_resources/__init__.py\", line 2736, in requires\n",
      "    dm = self._dep_map\n",
      "  File \"/Users/Myers/opt/miniconda3/lib/python3.7/site-packages/pip/_vendor/pkg_resources/__init__.py\", line 3023, in _dep_map\n",
      "    self.__dep_map = self._compute_dependencies()\n",
      "  File \"/Users/Myers/opt/miniconda3/lib/python3.7/site-packages/pip/_vendor/pkg_resources/__init__.py\", line 3032, in _compute_dependencies\n",
      "    for req in self._parsed_pkg_info.get_all('Requires-Dist') or []:\n",
      "  File \"/Users/Myers/opt/miniconda3/lib/python3.7/site-packages/pip/_vendor/pkg_resources/__init__.py\", line 3014, in _parsed_pkg_info\n",
      "    metadata = self.get_metadata(self.PKG_INFO)\n",
      "  File \"/Users/Myers/opt/miniconda3/lib/python3.7/site-packages/pip/_vendor/pkg_resources/__init__.py\", line 1420, in get_metadata\n",
      "    value = self._get(path)\n",
      "  File \"/Users/Myers/opt/miniconda3/lib/python3.7/site-packages/pip/_vendor/pkg_resources/__init__.py\", line 1616, in _get\n",
      "    with open(path, 'rb') as stream:\n",
      "FileNotFoundError: [Errno 2] No such file or directory: '/Users/Myers/opt/miniconda3/lib/python3.7/site-packages/pandas-1.0.1.dist-info/METADATA'\u001b[0m\n",
      "time: 1.14 s\n"
     ]
    }
   ],
   "source": [
    "!pip install -U scikit-learn"
   ]
  },
  {
   "cell_type": "code",
   "execution_count": null,
   "metadata": {},
   "outputs": [
    {
     "name": "stdout",
     "output_type": "stream",
     "text": [
      "doing linear\n",
      "doing forest\n"
     ]
    }
   ],
   "source": [
    "#@title Q2 code  RUNNING SPEED\n",
    "\n",
    "import numpy as np\n",
    "import sklearn \n",
    "from sklearn.linear_model import LinearRegression,Ridge\n",
    "from sklearn.ensemble import RandomForestRegressor\n",
    "\n",
    "import pickle\n",
    "\n",
    "\n",
    "n = 100\n",
    "y = dat['run']\n",
    "X = dat['sresp']\n",
    "\n",
    "test_data_size = 200\n",
    "N = X.shape[1]\n",
    "\n",
    "sizetocut = len(X)   #\"How many neurons do we keep?\"\n",
    "np.random.seed(2020)\n",
    "mask_test = np.random.choice(np.arange(N),test_data_size)\n",
    "mask_train = np.delete(np.arange(N),mask_test)\n",
    "X_test = X[:sizetocut,mask_test]\n",
    "X_train = X[:sizetocut,mask_train]\n",
    "y_test = y[mask_test]\n",
    "y_train = y[mask_train]\n",
    "X_train = X_train.T\n",
    "X_test = X_test.T\n",
    "\n",
    "for model_type in ['linear','forest']:\n",
    "  if model_type == 'forest':   #Declare RF, train it, predict test from it\n",
    "    print('doing forest')\n",
    "    model = RandomForestRegressor(n_estimators=n, random_state=0)\n",
    "    model.fit(X_train, y_train)\n",
    "    \n",
    "    model.score(X_train, y_train)\n",
    "    y_pred_test = model.predict(X_test)\n",
    "    y_pred_train =  model.predict(X_train)\n",
    "    filename = 'Trained {} model run speeds.sav'.format(model_type)\n",
    "    pickle.dump(model, open(filename, 'wb'))\n",
    "  \n",
    "\n",
    "\n",
    "\n",
    "  elif model_type == 'linear':\n",
    "    print('doing linear')\n",
    "    linear_model = LinearRegression()\n",
    "    linear_model.fit(X_train, y_train)\n",
    "\n",
    "    linear_model.score(X_train, y_train)\n",
    "    y_pred_test = linear_model.predict(X_test)\n",
    "    y_pred_train =  linear_model.predict(X_train)\n",
    "    filename = 'Trained {} model run speeds.sav'.format(model_type)\n",
    "    pickle.dump(linear_model, open(filename, 'wb'))\n",
    "\n"
   ]
  },
  {
   "cell_type": "code",
   "execution_count": 11,
   "metadata": {},
   "outputs": [
    {
     "name": "stdout",
     "output_type": "stream",
     "text": [
      "time: 4.16 s\n"
     ]
    }
   ],
   "source": [
    "#@title Run this and don't ask questions\n",
    "\n",
    "\n",
    "def calculate_osi(stim, data):\n",
    "\n",
    "  \"\"\"\n",
    "  stim (1, 4598 // 1, stim): array of stimulus values \n",
    "  data (23589, 4598 // neurons, responses): array of responses by neuron\n",
    "  \"\"\"\n",
    "\n",
    "  #stim = (stim*180)/(2*np.pi)\n",
    "\n",
    "  osi = []\n",
    "\n",
    "  for neuron in data: \n",
    "\n",
    "    neuron_osi = np.sqrt(np.sum(neuron*np.cos(2*stim))**2 + (np.sum(neuron*np.sin(2*stim)))**2)/neuron.sum()\n",
    "\n",
    "    osi.append(neuron_osi)\n",
    "\n",
    "  return osi\n",
    "\n",
    "#Calculate OSI for all trials\n",
    "osi = calculate_osi(dat['istim'], dat['sresp'])\n",
    "not_tuned = np.argwhere(np.array(osi)<np.percentile(osi,25))"
   ]
  },
  {
   "cell_type": "code",
   "execution_count": 12,
   "metadata": {},
   "outputs": [
    {
     "name": "stdout",
     "output_type": "stream",
     "text": [
      "time: 1h 44min 37s\n"
     ]
    }
   ],
   "source": [
    "#@title Q4 code Running TUNED-NOT TUNED\n",
    "\n",
    "import numpy as np\n",
    "import sklearn \n",
    "from sklearn.linear_model import LinearRegression,Ridge\n",
    "from sklearn.ensemble import RandomForestRegressor\n",
    "\n",
    "import pickle\n",
    "\n",
    "\n",
    "n = 100\n",
    "y = dat['run']\n",
    "X = dat['sresp'][not_tuned][:,0,:]\n",
    "\n",
    "test_data_size = 200\n",
    "N = X.shape[1]\n",
    "\n",
    "sizetocut = len(X)   #\"How many neurons do we keep?\"\n",
    "np.random.seed(2020)\n",
    "mask_test = np.random.choice(np.arange(N),test_data_size)\n",
    "mask_train = np.delete(np.arange(N),mask_test)\n",
    "X_test = X[:sizetocut,mask_test]\n",
    "X_train = X[:sizetocut,mask_train]\n",
    "y_test = y[mask_test]\n",
    "y_train = y[mask_train]\n",
    "X_train = X_train.T\n",
    "X_test = X_test.T\n",
    "\n",
    "for model_type in ['linear','forest']:\n",
    "  if model_type == 'forest':   #Declare RF, train it, predict test from it\n",
    "    model = RandomForestRegressor(n_estimators=n, random_state=0)\n",
    "    model.fit(X_train, y_train)\n",
    "\n",
    "    model.score(X_train, y_train)\n",
    "    y_pred_test = model.predict(X_test)\n",
    "    y_pred_train =  model.predict(X_train)\n",
    "    filename = 'Trained {} model run speeds non-tuned.sav'.format(model_type)\n",
    "    pickle.dump(model, open(filename, 'wb'))\n",
    "  \n",
    "\n",
    "\n",
    "\n",
    "  elif model_type == 'linear':\n",
    "    linear_model = LinearRegression()\n",
    "    linear_model.fit(X_train, y_train)\n",
    "\n",
    "    linear_model.score(X_train, y_train)\n",
    "    y_pred_test = linear_model.predict(X_test)\n",
    "    y_pred_train =  linear_model.predict(X_train)\n",
    "    filename = 'Trained {} model run speeds non-tuned.sav'.format(model_type)\n",
    "    pickle.dump(linear_model, open(filename, 'wb'))\n",
    "\n",
    "\n"
   ]
  },
  {
   "cell_type": "code",
   "execution_count": null,
   "metadata": {},
   "outputs": [],
   "source": []
  }
 ],
 "metadata": {
  "kernelspec": {
   "display_name": "Python 3",
   "language": "python",
   "name": "python3"
  },
  "language_info": {
   "codemirror_mode": {
    "name": "ipython",
    "version": 3
   },
   "file_extension": ".py",
   "mimetype": "text/x-python",
   "name": "python",
   "nbconvert_exporter": "python",
   "pygments_lexer": "ipython3",
   "version": "3.7.4"
  }
 },
 "nbformat": 4,
 "nbformat_minor": 4
}
