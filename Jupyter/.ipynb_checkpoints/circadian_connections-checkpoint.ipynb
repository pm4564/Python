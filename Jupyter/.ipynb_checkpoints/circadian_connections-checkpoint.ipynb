{
 "cells": [
  {
   "cell_type": "code",
   "execution_count": null,
   "metadata": {},
   "outputs": [],
   "source": [
    "# Appending the directory containing your `python_startup` file, with credentials filled out\n",
    "\n",
    "import sys\n",
    "sys.path.append('/Users/Myers/Documents/GitHub/myers2022/Python/Jupyter/python_startup.py')\n",
    "from python_startup import * \n",
    "\n",
    "from tqdm import tqdm\n",
    "from collections import Counter"
   ]
  },
  {
   "cell_type": "code",
   "execution_count": null,
   "metadata": {},
   "outputs": [],
   "source": [
    "#from neuprint import NeuronCriteria as NC\n",
    "#criteria = NC(type='DA2_lPN')\n",
    "  \n",
    "#etter to generalise to all uPNs for now to make normalisation simpler\n",
    "\n",
    "uPN_df = pd.read_csv('FIB_uPNS.csv')\n",
    "uPN_df"
   ]
  },
  {
   "cell_type": "code",
   "execution_count": null,
   "metadata": {},
   "outputs": [],
   "source": [
    "from neuprint import fetch_neurons\n",
    "uPN_df, uPN_roi_counts_df = fetch_neurons(uPN_df.bodyid)"
   ]
  },
  {
   "cell_type": "code",
   "execution_count": null,
   "metadata": {},
   "outputs": [],
   "source": [
    "uPN_df[['bodyId', 'instance', 'type', 'pre', 'post', 'status', 'cropped', 'size']]"
   ]
  },
  {
   "cell_type": "code",
   "execution_count": null,
   "metadata": {},
   "outputs": [],
   "source": [
    "uPN_bids = uPN_df.bodyId.tolist()\n",
    "len(uPN_bids)"
   ]
  },
  {
   "cell_type": "code",
   "execution_count": null,
   "metadata": {},
   "outputs": [],
   "source": [
    "from neuprint import fetch_adjacencies, NeuronCriteria as NC\n",
    "\n",
    "# Example: Fetch all direct connections between a set of upstream neurons and downstream neurons\n",
    "uPN_lh_neuron_df, uPN_lh_conn_df = fetch_adjacencies(uPN_bids, NC(rois=['LH(R)']))"
   ]
  },
  {
   "cell_type": "code",
   "execution_count": null,
   "metadata": {},
   "outputs": [],
   "source": [
    "from neuprint import merge_neuron_properties\n",
    "\n",
    "uPN_lh_conn_df = merge_neuron_properties(uPN_lh_neuron_df, uPN_lh_conn_df, ['type', 'instance'])\n",
    "uPN_lh_conn_df\n",
    "uPN_lh_conn_df.sort_values('weight', ascending=False)\n",
    "#why have non LH rois been introduced here? "
   ]
  }
 ],
 "metadata": {
  "kernelspec": {
   "display_name": "Python 3",
   "language": "python",
   "name": "python3"
  },
  "language_info": {
   "codemirror_mode": {
    "name": "ipython",
    "version": 3
   },
   "file_extension": ".py",
   "mimetype": "text/x-python",
   "name": "python",
   "nbconvert_exporter": "python",
   "pygments_lexer": "ipython3",
   "version": "3.7.4"
  }
 },
 "nbformat": 4,
 "nbformat_minor": 4
}
